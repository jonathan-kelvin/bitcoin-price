{
 "cells": [
  {
   "cell_type": "markdown",
   "metadata": {},
   "source": [
    "# Initial Data"
   ]
  },
  {
   "cell_type": "code",
   "execution_count": 2,
   "metadata": {},
   "outputs": [],
   "source": [
    "import pandas as pd"
   ]
  },
  {
   "cell_type": "code",
   "execution_count": 3,
   "metadata": {},
   "outputs": [],
   "source": [
    "vader_path = 'datasets/vader_prediction.csv'\n",
    "bert_path = 'datasets/bert_prediction.csv'\n",
    "bitcoin_path = 'datasets/bitcoin_price.csv'"
   ]
  },
  {
   "cell_type": "code",
   "execution_count": 4,
   "metadata": {},
   "outputs": [],
   "source": [
    "df_vader = pd.read_csv(vader_path)\n",
    "df_bert = pd.read_csv(bert_path)\n",
    "df_price = pd.read_csv(bitcoin_path)"
   ]
  },
  {
   "cell_type": "code",
   "execution_count": 5,
   "metadata": {},
   "outputs": [
    {
     "data": {
      "text/html": [
       "<div>\n",
       "<style scoped>\n",
       "    .dataframe tbody tr th:only-of-type {\n",
       "        vertical-align: middle;\n",
       "    }\n",
       "\n",
       "    .dataframe tbody tr th {\n",
       "        vertical-align: top;\n",
       "    }\n",
       "\n",
       "    .dataframe thead th {\n",
       "        text-align: right;\n",
       "    }\n",
       "</style>\n",
       "<table border=\"1\" class=\"dataframe\">\n",
       "  <thead>\n",
       "    <tr style=\"text-align: right;\">\n",
       "      <th></th>\n",
       "      <th>Unnamed: 0</th>\n",
       "      <th>date</th>\n",
       "      <th>content_9</th>\n",
       "      <th>Polarity Scores</th>\n",
       "      <th>Score</th>\n",
       "      <th>prediction_using_ps</th>\n",
       "      <th>prediction_using_sc</th>\n",
       "    </tr>\n",
       "  </thead>\n",
       "  <tbody>\n",
       "    <tr>\n",
       "      <th>0</th>\n",
       "      <td>0</td>\n",
       "      <td>2021-06-29 23:59:42+00:00</td>\n",
       "      <td>propose use  million bitcoin measure entire ag...</td>\n",
       "      <td>{'neg': 0.0, 'neu': 0.751, 'pos': 0.249, 'comp...</td>\n",
       "      <td>0.6486</td>\n",
       "      <td>neutral</td>\n",
       "      <td>positive</td>\n",
       "    </tr>\n",
       "    <tr>\n",
       "      <th>1</th>\n",
       "      <td>1</td>\n",
       "      <td>2021-06-29 23:59:08+00:00</td>\n",
       "      <td>bitcoin death cross perfect die naturally beco...</td>\n",
       "      <td>{'neg': 0.422, 'neu': 0.378, 'pos': 0.2, 'comp...</td>\n",
       "      <td>-0.6249</td>\n",
       "      <td>negative</td>\n",
       "      <td>negative</td>\n",
       "    </tr>\n",
       "  </tbody>\n",
       "</table>\n",
       "</div>"
      ],
      "text/plain": [
       "   Unnamed: 0                       date  \\\n",
       "0           0  2021-06-29 23:59:42+00:00   \n",
       "1           1  2021-06-29 23:59:08+00:00   \n",
       "\n",
       "                                           content_9  \\\n",
       "0  propose use  million bitcoin measure entire ag...   \n",
       "1  bitcoin death cross perfect die naturally beco...   \n",
       "\n",
       "                                     Polarity Scores   Score  \\\n",
       "0  {'neg': 0.0, 'neu': 0.751, 'pos': 0.249, 'comp...  0.6486   \n",
       "1  {'neg': 0.422, 'neu': 0.378, 'pos': 0.2, 'comp... -0.6249   \n",
       "\n",
       "  prediction_using_ps prediction_using_sc  \n",
       "0             neutral            positive  \n",
       "1            negative            negative  "
      ]
     },
     "metadata": {},
     "output_type": "display_data"
    },
    {
     "data": {
      "text/html": [
       "<div>\n",
       "<style scoped>\n",
       "    .dataframe tbody tr th:only-of-type {\n",
       "        vertical-align: middle;\n",
       "    }\n",
       "\n",
       "    .dataframe tbody tr th {\n",
       "        vertical-align: top;\n",
       "    }\n",
       "\n",
       "    .dataframe thead th {\n",
       "        text-align: right;\n",
       "    }\n",
       "</style>\n",
       "<table border=\"1\" class=\"dataframe\">\n",
       "  <thead>\n",
       "    <tr style=\"text-align: right;\">\n",
       "      <th></th>\n",
       "      <th>Unnamed: 0</th>\n",
       "      <th>sentence</th>\n",
       "      <th>prediction</th>\n",
       "    </tr>\n",
       "  </thead>\n",
       "  <tbody>\n",
       "    <tr>\n",
       "      <th>0</th>\n",
       "      <td>0</td>\n",
       "      <td>propose use  million bitcoin measure entire ag...</td>\n",
       "      <td>neutral</td>\n",
       "    </tr>\n",
       "    <tr>\n",
       "      <th>1</th>\n",
       "      <td>1</td>\n",
       "      <td>bitcoin death cross perfect die naturally beco...</td>\n",
       "      <td>positive</td>\n",
       "    </tr>\n",
       "  </tbody>\n",
       "</table>\n",
       "</div>"
      ],
      "text/plain": [
       "   Unnamed: 0                                           sentence prediction\n",
       "0           0  propose use  million bitcoin measure entire ag...    neutral\n",
       "1           1  bitcoin death cross perfect die naturally beco...   positive"
      ]
     },
     "metadata": {},
     "output_type": "display_data"
    },
    {
     "data": {
      "text/html": [
       "<div>\n",
       "<style scoped>\n",
       "    .dataframe tbody tr th:only-of-type {\n",
       "        vertical-align: middle;\n",
       "    }\n",
       "\n",
       "    .dataframe tbody tr th {\n",
       "        vertical-align: top;\n",
       "    }\n",
       "\n",
       "    .dataframe thead th {\n",
       "        text-align: right;\n",
       "    }\n",
       "</style>\n",
       "<table border=\"1\" class=\"dataframe\">\n",
       "  <thead>\n",
       "    <tr style=\"text-align: right;\">\n",
       "      <th></th>\n",
       "      <th>Unnamed: 0</th>\n",
       "      <th>Date</th>\n",
       "      <th>Open</th>\n",
       "      <th>High</th>\n",
       "      <th>Low</th>\n",
       "      <th>Close</th>\n",
       "      <th>Adj Close</th>\n",
       "      <th>Volume</th>\n",
       "    </tr>\n",
       "  </thead>\n",
       "  <tbody>\n",
       "    <tr>\n",
       "      <th>0</th>\n",
       "      <td>0</td>\n",
       "      <td>2021-06-01</td>\n",
       "      <td>37293.792969</td>\n",
       "      <td>37896.734375</td>\n",
       "      <td>35787.085938</td>\n",
       "      <td>36684.925781</td>\n",
       "      <td>36684.925781</td>\n",
       "      <td>34639423297</td>\n",
       "    </tr>\n",
       "    <tr>\n",
       "      <th>1</th>\n",
       "      <td>1</td>\n",
       "      <td>2021-06-02</td>\n",
       "      <td>36699.921875</td>\n",
       "      <td>38231.339844</td>\n",
       "      <td>35966.308594</td>\n",
       "      <td>37575.179688</td>\n",
       "      <td>37575.179688</td>\n",
       "      <td>33070867190</td>\n",
       "    </tr>\n",
       "  </tbody>\n",
       "</table>\n",
       "</div>"
      ],
      "text/plain": [
       "   Unnamed: 0        Date          Open          High           Low  \\\n",
       "0           0  2021-06-01  37293.792969  37896.734375  35787.085938   \n",
       "1           1  2021-06-02  36699.921875  38231.339844  35966.308594   \n",
       "\n",
       "          Close     Adj Close       Volume  \n",
       "0  36684.925781  36684.925781  34639423297  \n",
       "1  37575.179688  37575.179688  33070867190  "
      ]
     },
     "metadata": {},
     "output_type": "display_data"
    }
   ],
   "source": [
    "display(df_vader.head(2))\n",
    "display(df_bert.head(2))\n",
    "display(df_price.head(2))"
   ]
  },
  {
   "cell_type": "code",
   "execution_count": 6,
   "metadata": {},
   "outputs": [
    {
     "name": "stdout",
     "output_type": "stream",
     "text": [
      "VADER using Polarity Scores\n",
      "Percentage of positive:\t\t 4.28 %\n",
      "Percentage of negative:\t\t 1.82 %\n",
      "Percentage of neutral:\t\t 93.9 %\n"
     ]
    }
   ],
   "source": [
    "print('VADER using Polarity Scores')\n",
    "for x in ['positive', 'negative', 'neutral']:\n",
    "    print('Percentage of '+x+':\\t\\t', round((len(df_vader[df_vader['prediction_using_ps'] == x]) / len(df_vader)) * 100, 2), '%')"
   ]
  },
  {
   "cell_type": "code",
   "execution_count": 7,
   "metadata": {},
   "outputs": [
    {
     "name": "stdout",
     "output_type": "stream",
     "text": [
      "VADER using Score\n",
      "Percentage of positive:\t\t 44.15 %\n",
      "Percentage of negative:\t\t 20.51 %\n",
      "Percentage of neutral:\t\t 35.34 %\n"
     ]
    }
   ],
   "source": [
    "print('VADER using Score')\n",
    "for x in ['positive', 'negative', 'neutral']:\n",
    "    print('Percentage of '+x+':\\t\\t', round((len(df_vader[df_vader['prediction_using_sc'] == x]) / len(df_vader)) * 100, 2), '%')"
   ]
  },
  {
   "cell_type": "code",
   "execution_count": 8,
   "metadata": {},
   "outputs": [
    {
     "name": "stdout",
     "output_type": "stream",
     "text": [
      "BERT\n",
      "Percentage of positive:\t\t 15.73 %\n",
      "Percentage of negative:\t\t 8.1 %\n",
      "Percentage of neutral:\t\t 76.17 %\n"
     ]
    }
   ],
   "source": [
    "print('BERT')\n",
    "for x in ['positive', 'negative', 'neutral']:\n",
    "    print('Percentage of '+x+':\\t\\t', round((len(df_bert[df_bert['prediction'] == x]) / len(df_bert)) * 100, 2), '%')"
   ]
  },
  {
   "cell_type": "code",
   "execution_count": 9,
   "metadata": {},
   "outputs": [
    {
     "data": {
      "text/html": [
       "<div>\n",
       "<style scoped>\n",
       "    .dataframe tbody tr th:only-of-type {\n",
       "        vertical-align: middle;\n",
       "    }\n",
       "\n",
       "    .dataframe tbody tr th {\n",
       "        vertical-align: top;\n",
       "    }\n",
       "\n",
       "    .dataframe thead th {\n",
       "        text-align: right;\n",
       "    }\n",
       "</style>\n",
       "<table border=\"1\" class=\"dataframe\">\n",
       "  <thead>\n",
       "    <tr style=\"text-align: right;\">\n",
       "      <th></th>\n",
       "      <th>date</th>\n",
       "      <th>Vader PS</th>\n",
       "      <th>Vader SC</th>\n",
       "      <th>Bert</th>\n",
       "    </tr>\n",
       "  </thead>\n",
       "  <tbody>\n",
       "    <tr>\n",
       "      <th>0</th>\n",
       "      <td>2021-06-29 23:59:42+00:00</td>\n",
       "      <td>neutral</td>\n",
       "      <td>positive</td>\n",
       "      <td>neutral</td>\n",
       "    </tr>\n",
       "    <tr>\n",
       "      <th>1</th>\n",
       "      <td>2021-06-29 23:59:08+00:00</td>\n",
       "      <td>negative</td>\n",
       "      <td>negative</td>\n",
       "      <td>positive</td>\n",
       "    </tr>\n",
       "    <tr>\n",
       "      <th>2</th>\n",
       "      <td>2021-06-29 23:59:00+00:00</td>\n",
       "      <td>neutral</td>\n",
       "      <td>negative</td>\n",
       "      <td>neutral</td>\n",
       "    </tr>\n",
       "  </tbody>\n",
       "</table>\n",
       "</div>"
      ],
      "text/plain": [
       "                        date  Vader PS  Vader SC      Bert\n",
       "0  2021-06-29 23:59:42+00:00   neutral  positive   neutral\n",
       "1  2021-06-29 23:59:08+00:00  negative  negative  positive\n",
       "2  2021-06-29 23:59:00+00:00   neutral  negative   neutral"
      ]
     },
     "execution_count": 9,
     "metadata": {},
     "output_type": "execute_result"
    }
   ],
   "source": [
    "df_combined = pd.DataFrame(df_vader['date'])\n",
    "\n",
    "df_combined['Vader PS'] = df_vader['prediction_using_ps']\n",
    "df_combined['Vader SC'] = df_vader['prediction_using_sc']\n",
    "df_combined['Bert'] = df_bert['prediction']\n",
    "\n",
    "df_combined.head(3)"
   ]
  },
  {
   "cell_type": "code",
   "execution_count": 10,
   "metadata": {},
   "outputs": [],
   "source": [
    "def checkPrediction(pred):\n",
    "    if pred == 'neutral':\n",
    "        return 0\n",
    "    elif pred == 'positive':\n",
    "        return 1\n",
    "    elif pred == 'negative':\n",
    "        return -1"
   ]
  },
  {
   "cell_type": "code",
   "execution_count": 11,
   "metadata": {},
   "outputs": [],
   "source": [
    "for col in ['Vader PS', 'Vader SC', 'Bert']:\n",
    "    df_combined[col] = df_combined[col].apply(lambda pred: checkPrediction(pred))"
   ]
  },
  {
   "cell_type": "code",
   "execution_count": 12,
   "metadata": {},
   "outputs": [
    {
     "data": {
      "text/html": [
       "<div>\n",
       "<style scoped>\n",
       "    .dataframe tbody tr th:only-of-type {\n",
       "        vertical-align: middle;\n",
       "    }\n",
       "\n",
       "    .dataframe tbody tr th {\n",
       "        vertical-align: top;\n",
       "    }\n",
       "\n",
       "    .dataframe thead th {\n",
       "        text-align: right;\n",
       "    }\n",
       "</style>\n",
       "<table border=\"1\" class=\"dataframe\">\n",
       "  <thead>\n",
       "    <tr style=\"text-align: right;\">\n",
       "      <th></th>\n",
       "      <th>date</th>\n",
       "      <th>Vader PS</th>\n",
       "      <th>Vader SC</th>\n",
       "      <th>Bert</th>\n",
       "    </tr>\n",
       "  </thead>\n",
       "  <tbody>\n",
       "    <tr>\n",
       "      <th>0</th>\n",
       "      <td>2021-06-29 23:59:42+00:00</td>\n",
       "      <td>0</td>\n",
       "      <td>1</td>\n",
       "      <td>0</td>\n",
       "    </tr>\n",
       "    <tr>\n",
       "      <th>1</th>\n",
       "      <td>2021-06-29 23:59:08+00:00</td>\n",
       "      <td>-1</td>\n",
       "      <td>-1</td>\n",
       "      <td>1</td>\n",
       "    </tr>\n",
       "    <tr>\n",
       "      <th>2</th>\n",
       "      <td>2021-06-29 23:59:00+00:00</td>\n",
       "      <td>0</td>\n",
       "      <td>-1</td>\n",
       "      <td>0</td>\n",
       "    </tr>\n",
       "  </tbody>\n",
       "</table>\n",
       "</div>"
      ],
      "text/plain": [
       "                        date  Vader PS  Vader SC  Bert\n",
       "0  2021-06-29 23:59:42+00:00         0         1     0\n",
       "1  2021-06-29 23:59:08+00:00        -1        -1     1\n",
       "2  2021-06-29 23:59:00+00:00         0        -1     0"
      ]
     },
     "execution_count": 12,
     "metadata": {},
     "output_type": "execute_result"
    }
   ],
   "source": [
    "df_combined.head(3)"
   ]
  },
  {
   "cell_type": "code",
   "execution_count": 13,
   "metadata": {},
   "outputs": [],
   "source": [
    "import datetime\n",
    "\n",
    "def convertDate(date):\n",
    "    return datetime.datetime.strptime(date, '%Y-%m-%d %X%z').strftime('%Y-%m-%d')"
   ]
  },
  {
   "cell_type": "code",
   "execution_count": 14,
   "metadata": {},
   "outputs": [],
   "source": [
    "df_combined['date'] = df_combined['date'].apply(lambda date: convertDate(date))"
   ]
  },
  {
   "cell_type": "code",
   "execution_count": 15,
   "metadata": {},
   "outputs": [
    {
     "name": "stdout",
     "output_type": "stream",
     "text": [
      "Number of unique dates:\t 61\n"
     ]
    }
   ],
   "source": [
    "print('Number of unique dates:\\t', len(df_combined['date'].unique()))"
   ]
  },
  {
   "cell_type": "code",
   "execution_count": 16,
   "metadata": {},
   "outputs": [],
   "source": [
    "df_combined = df_combined.groupby('date').mean()"
   ]
  },
  {
   "cell_type": "code",
   "execution_count": 17,
   "metadata": {},
   "outputs": [
    {
     "data": {
      "text/html": [
       "<div>\n",
       "<style scoped>\n",
       "    .dataframe tbody tr th:only-of-type {\n",
       "        vertical-align: middle;\n",
       "    }\n",
       "\n",
       "    .dataframe tbody tr th {\n",
       "        vertical-align: top;\n",
       "    }\n",
       "\n",
       "    .dataframe thead th {\n",
       "        text-align: right;\n",
       "    }\n",
       "</style>\n",
       "<table border=\"1\" class=\"dataframe\">\n",
       "  <thead>\n",
       "    <tr style=\"text-align: right;\">\n",
       "      <th></th>\n",
       "      <th>Vader PS</th>\n",
       "      <th>Vader SC</th>\n",
       "      <th>Bert</th>\n",
       "    </tr>\n",
       "    <tr>\n",
       "      <th>date</th>\n",
       "      <th></th>\n",
       "      <th></th>\n",
       "      <th></th>\n",
       "    </tr>\n",
       "  </thead>\n",
       "  <tbody>\n",
       "    <tr>\n",
       "      <th>2021-06-01</th>\n",
       "      <td>0.029919</td>\n",
       "      <td>0.341608</td>\n",
       "      <td>0.096827</td>\n",
       "    </tr>\n",
       "    <tr>\n",
       "      <th>2021-06-02</th>\n",
       "      <td>0.030013</td>\n",
       "      <td>0.339552</td>\n",
       "      <td>0.099448</td>\n",
       "    </tr>\n",
       "    <tr>\n",
       "      <th>2021-06-03</th>\n",
       "      <td>0.031826</td>\n",
       "      <td>0.339058</td>\n",
       "      <td>0.088073</td>\n",
       "    </tr>\n",
       "    <tr>\n",
       "      <th>2021-06-04</th>\n",
       "      <td>0.009708</td>\n",
       "      <td>0.163622</td>\n",
       "      <td>0.018445</td>\n",
       "    </tr>\n",
       "    <tr>\n",
       "      <th>2021-06-05</th>\n",
       "      <td>0.025658</td>\n",
       "      <td>0.258201</td>\n",
       "      <td>0.043088</td>\n",
       "    </tr>\n",
       "    <tr>\n",
       "      <th>2021-06-06</th>\n",
       "      <td>0.023815</td>\n",
       "      <td>0.275093</td>\n",
       "      <td>0.063081</td>\n",
       "    </tr>\n",
       "    <tr>\n",
       "      <th>2021-06-07</th>\n",
       "      <td>0.011892</td>\n",
       "      <td>0.203413</td>\n",
       "      <td>0.045915</td>\n",
       "    </tr>\n",
       "    <tr>\n",
       "      <th>2021-06-08</th>\n",
       "      <td>0.012775</td>\n",
       "      <td>0.170574</td>\n",
       "      <td>0.031865</td>\n",
       "    </tr>\n",
       "    <tr>\n",
       "      <th>2021-06-09</th>\n",
       "      <td>0.030829</td>\n",
       "      <td>0.357589</td>\n",
       "      <td>0.090449</td>\n",
       "    </tr>\n",
       "    <tr>\n",
       "      <th>2021-06-10</th>\n",
       "      <td>0.026891</td>\n",
       "      <td>0.238411</td>\n",
       "      <td>0.048565</td>\n",
       "    </tr>\n",
       "  </tbody>\n",
       "</table>\n",
       "</div>"
      ],
      "text/plain": [
       "            Vader PS  Vader SC      Bert\n",
       "date                                    \n",
       "2021-06-01  0.029919  0.341608  0.096827\n",
       "2021-06-02  0.030013  0.339552  0.099448\n",
       "2021-06-03  0.031826  0.339058  0.088073\n",
       "2021-06-04  0.009708  0.163622  0.018445\n",
       "2021-06-05  0.025658  0.258201  0.043088\n",
       "2021-06-06  0.023815  0.275093  0.063081\n",
       "2021-06-07  0.011892  0.203413  0.045915\n",
       "2021-06-08  0.012775  0.170574  0.031865\n",
       "2021-06-09  0.030829  0.357589  0.090449\n",
       "2021-06-10  0.026891  0.238411  0.048565"
      ]
     },
     "execution_count": 17,
     "metadata": {},
     "output_type": "execute_result"
    }
   ],
   "source": [
    "df_combined.head(10)"
   ]
  },
  {
   "cell_type": "code",
   "execution_count": 18,
   "metadata": {},
   "outputs": [
    {
     "name": "stdout",
     "output_type": "stream",
     "text": [
      "1.0\n",
      "1.0\n",
      "1.0\n"
     ]
    }
   ],
   "source": [
    "for col in df_combined.columns:\n",
    "    print(len(df_combined[df_combined[col] > 0]) / len(df_combined))"
   ]
  },
  {
   "cell_type": "code",
   "execution_count": 19,
   "metadata": {},
   "outputs": [
    {
     "data": {
      "text/html": [
       "<div>\n",
       "<style scoped>\n",
       "    .dataframe tbody tr th:only-of-type {\n",
       "        vertical-align: middle;\n",
       "    }\n",
       "\n",
       "    .dataframe tbody tr th {\n",
       "        vertical-align: top;\n",
       "    }\n",
       "\n",
       "    .dataframe thead th {\n",
       "        text-align: right;\n",
       "    }\n",
       "</style>\n",
       "<table border=\"1\" class=\"dataframe\">\n",
       "  <thead>\n",
       "    <tr style=\"text-align: right;\">\n",
       "      <th></th>\n",
       "      <th>Vader PS</th>\n",
       "      <th>Vader SC</th>\n",
       "      <th>Bert</th>\n",
       "    </tr>\n",
       "    <tr>\n",
       "      <th>date</th>\n",
       "      <th></th>\n",
       "      <th></th>\n",
       "      <th></th>\n",
       "    </tr>\n",
       "  </thead>\n",
       "  <tbody>\n",
       "    <tr>\n",
       "      <th>2021-06-01</th>\n",
       "      <td>0.029919</td>\n",
       "      <td>0.341608</td>\n",
       "      <td>0.096827</td>\n",
       "    </tr>\n",
       "    <tr>\n",
       "      <th>2021-06-02</th>\n",
       "      <td>0.030013</td>\n",
       "      <td>0.339552</td>\n",
       "      <td>0.099448</td>\n",
       "    </tr>\n",
       "    <tr>\n",
       "      <th>2021-06-03</th>\n",
       "      <td>0.031826</td>\n",
       "      <td>0.339058</td>\n",
       "      <td>0.088073</td>\n",
       "    </tr>\n",
       "    <tr>\n",
       "      <th>2021-06-04</th>\n",
       "      <td>0.009708</td>\n",
       "      <td>0.163622</td>\n",
       "      <td>0.018445</td>\n",
       "    </tr>\n",
       "    <tr>\n",
       "      <th>2021-06-05</th>\n",
       "      <td>0.025658</td>\n",
       "      <td>0.258201</td>\n",
       "      <td>0.043088</td>\n",
       "    </tr>\n",
       "  </tbody>\n",
       "</table>\n",
       "</div>"
      ],
      "text/plain": [
       "            Vader PS  Vader SC      Bert\n",
       "date                                    \n",
       "2021-06-01  0.029919  0.341608  0.096827\n",
       "2021-06-02  0.030013  0.339552  0.099448\n",
       "2021-06-03  0.031826  0.339058  0.088073\n",
       "2021-06-04  0.009708  0.163622  0.018445\n",
       "2021-06-05  0.025658  0.258201  0.043088"
      ]
     },
     "execution_count": 19,
     "metadata": {},
     "output_type": "execute_result"
    }
   ],
   "source": [
    "df_combined.head()"
   ]
  },
  {
   "cell_type": "code",
   "execution_count": 20,
   "metadata": {},
   "outputs": [
    {
     "data": {
      "text/plain": [
       "61"
      ]
     },
     "execution_count": 20,
     "metadata": {},
     "output_type": "execute_result"
    }
   ],
   "source": [
    "len(df_combined)"
   ]
  },
  {
   "cell_type": "code",
   "execution_count": 21,
   "metadata": {},
   "outputs": [],
   "source": [
    "df_price_sub = df_price[['Date', 'Close']][:len(df_combined)]"
   ]
  },
  {
   "cell_type": "code",
   "execution_count": 22,
   "metadata": {},
   "outputs": [],
   "source": [
    "df_price_sub = df_price_sub.set_index(df_combined.index)"
   ]
  },
  {
   "cell_type": "code",
   "execution_count": 23,
   "metadata": {},
   "outputs": [],
   "source": [
    "df_combined['Price'] = df_price_sub['Close']"
   ]
  },
  {
   "cell_type": "code",
   "execution_count": 26,
   "metadata": {},
   "outputs": [
    {
     "data": {
      "text/html": [
       "<div>\n",
       "<style scoped>\n",
       "    .dataframe tbody tr th:only-of-type {\n",
       "        vertical-align: middle;\n",
       "    }\n",
       "\n",
       "    .dataframe tbody tr th {\n",
       "        vertical-align: top;\n",
       "    }\n",
       "\n",
       "    .dataframe thead th {\n",
       "        text-align: right;\n",
       "    }\n",
       "</style>\n",
       "<table border=\"1\" class=\"dataframe\">\n",
       "  <thead>\n",
       "    <tr style=\"text-align: right;\">\n",
       "      <th></th>\n",
       "      <th>Vader PS</th>\n",
       "      <th>Vader SC</th>\n",
       "      <th>Bert</th>\n",
       "      <th>Price</th>\n",
       "    </tr>\n",
       "    <tr>\n",
       "      <th>date</th>\n",
       "      <th></th>\n",
       "      <th></th>\n",
       "      <th></th>\n",
       "      <th></th>\n",
       "    </tr>\n",
       "  </thead>\n",
       "  <tbody>\n",
       "    <tr>\n",
       "      <th>2021-06-01</th>\n",
       "      <td>0.029919</td>\n",
       "      <td>0.341608</td>\n",
       "      <td>0.096827</td>\n",
       "      <td>36684.925781</td>\n",
       "    </tr>\n",
       "    <tr>\n",
       "      <th>2021-06-02</th>\n",
       "      <td>0.030013</td>\n",
       "      <td>0.339552</td>\n",
       "      <td>0.099448</td>\n",
       "      <td>37575.179688</td>\n",
       "    </tr>\n",
       "    <tr>\n",
       "      <th>2021-06-03</th>\n",
       "      <td>0.031826</td>\n",
       "      <td>0.339058</td>\n",
       "      <td>0.088073</td>\n",
       "      <td>39208.765625</td>\n",
       "    </tr>\n",
       "    <tr>\n",
       "      <th>2021-06-04</th>\n",
       "      <td>0.009708</td>\n",
       "      <td>0.163622</td>\n",
       "      <td>0.018445</td>\n",
       "      <td>36894.406250</td>\n",
       "    </tr>\n",
       "    <tr>\n",
       "      <th>2021-06-05</th>\n",
       "      <td>0.025658</td>\n",
       "      <td>0.258201</td>\n",
       "      <td>0.043088</td>\n",
       "      <td>35551.957031</td>\n",
       "    </tr>\n",
       "    <tr>\n",
       "      <th>...</th>\n",
       "      <td>...</td>\n",
       "      <td>...</td>\n",
       "      <td>...</td>\n",
       "      <td>...</td>\n",
       "    </tr>\n",
       "    <tr>\n",
       "      <th>2021-07-27</th>\n",
       "      <td>0.027904</td>\n",
       "      <td>0.253635</td>\n",
       "      <td>0.082685</td>\n",
       "      <td>39406.941406</td>\n",
       "    </tr>\n",
       "    <tr>\n",
       "      <th>2021-07-28</th>\n",
       "      <td>0.025230</td>\n",
       "      <td>0.245964</td>\n",
       "      <td>0.099008</td>\n",
       "      <td>39995.906250</td>\n",
       "    </tr>\n",
       "    <tr>\n",
       "      <th>2021-07-29</th>\n",
       "      <td>0.026324</td>\n",
       "      <td>0.269426</td>\n",
       "      <td>0.112591</td>\n",
       "      <td>40008.421875</td>\n",
       "    </tr>\n",
       "    <tr>\n",
       "      <th>2021-07-30</th>\n",
       "      <td>0.023118</td>\n",
       "      <td>0.236569</td>\n",
       "      <td>0.102325</td>\n",
       "      <td>42235.546875</td>\n",
       "    </tr>\n",
       "    <tr>\n",
       "      <th>2021-07-31</th>\n",
       "      <td>0.029058</td>\n",
       "      <td>0.276434</td>\n",
       "      <td>0.121101</td>\n",
       "      <td>41626.195313</td>\n",
       "    </tr>\n",
       "  </tbody>\n",
       "</table>\n",
       "<p>61 rows × 4 columns</p>\n",
       "</div>"
      ],
      "text/plain": [
       "            Vader PS  Vader SC      Bert         Price\n",
       "date                                                  \n",
       "2021-06-01  0.029919  0.341608  0.096827  36684.925781\n",
       "2021-06-02  0.030013  0.339552  0.099448  37575.179688\n",
       "2021-06-03  0.031826  0.339058  0.088073  39208.765625\n",
       "2021-06-04  0.009708  0.163622  0.018445  36894.406250\n",
       "2021-06-05  0.025658  0.258201  0.043088  35551.957031\n",
       "...              ...       ...       ...           ...\n",
       "2021-07-27  0.027904  0.253635  0.082685  39406.941406\n",
       "2021-07-28  0.025230  0.245964  0.099008  39995.906250\n",
       "2021-07-29  0.026324  0.269426  0.112591  40008.421875\n",
       "2021-07-30  0.023118  0.236569  0.102325  42235.546875\n",
       "2021-07-31  0.029058  0.276434  0.121101  41626.195313\n",
       "\n",
       "[61 rows x 4 columns]"
      ]
     },
     "execution_count": 26,
     "metadata": {},
     "output_type": "execute_result"
    }
   ],
   "source": [
    "df_combined"
   ]
  },
  {
   "cell_type": "code",
   "execution_count": 1,
   "metadata": {},
   "outputs": [
    {
     "ename": "NameError",
     "evalue": "name 'df_combined' is not defined",
     "output_type": "error",
     "traceback": [
      "\u001b[0;31m---------------------------------------------------------------------------\u001b[0m",
      "\u001b[0;31mNameError\u001b[0m                                 Traceback (most recent call last)",
      "\u001b[0;32m<ipython-input-1-474bf2ab4cdc>\u001b[0m in \u001b[0;36m<module>\u001b[0;34m\u001b[0m\n\u001b[1;32m      1\u001b[0m \u001b[0;32mimport\u001b[0m \u001b[0mmatplotlib\u001b[0m\u001b[0;34m.\u001b[0m\u001b[0mpyplot\u001b[0m \u001b[0;32mas\u001b[0m \u001b[0mplt\u001b[0m\u001b[0;34m\u001b[0m\u001b[0;34m\u001b[0m\u001b[0m\n\u001b[1;32m      2\u001b[0m \u001b[0;34m\u001b[0m\u001b[0m\n\u001b[0;32m----> 3\u001b[0;31m \u001b[0mdf_combined\u001b[0m\u001b[0;34m[\u001b[0m\u001b[0;34m'Bert'\u001b[0m\u001b[0;34m]\u001b[0m\u001b[0;34m.\u001b[0m\u001b[0mhist\u001b[0m\u001b[0;34m(\u001b[0m\u001b[0;34m)\u001b[0m\u001b[0;34m\u001b[0m\u001b[0;34m\u001b[0m\u001b[0m\n\u001b[0m\u001b[1;32m      4\u001b[0m \u001b[0;34m\u001b[0m\u001b[0m\n\u001b[1;32m      5\u001b[0m \u001b[0mdf_combined\u001b[0m\u001b[0;34m[\u001b[0m\u001b[0;34m'Vader PS'\u001b[0m\u001b[0;34m]\u001b[0m\u001b[0;34m.\u001b[0m\u001b[0mhist\u001b[0m\u001b[0;34m(\u001b[0m\u001b[0;34m)\u001b[0m\u001b[0;34m\u001b[0m\u001b[0;34m\u001b[0m\u001b[0m\n",
      "\u001b[0;31mNameError\u001b[0m: name 'df_combined' is not defined"
     ]
    }
   ],
   "source": [
    "import matplotlib.pyplot as plt\n",
    "\n",
    "df_combined['Bert'].hist()\n",
    "\n",
    "df_combined['Vader PS'].hist()\n",
    "\n",
    "df_combined['Vader SC'].hist()\n",
    "\n",
    "# df_combined['combined']"
   ]
  },
  {
   "cell_type": "code",
   "execution_count": null,
   "metadata": {},
   "outputs": [],
   "source": []
  }
 ],
 "metadata": {
  "interpreter": {
   "hash": "3e5bda7be5c65c4e09c9788e53ac651777b099d2e05c1e252b8c37b2d746b13b"
  },
  "kernelspec": {
   "display_name": "Python 3.8.8 ('base')",
   "language": "python",
   "name": "python3"
  },
  "language_info": {
   "codemirror_mode": {
    "name": "ipython",
    "version": 3
   },
   "file_extension": ".py",
   "mimetype": "text/x-python",
   "name": "python",
   "nbconvert_exporter": "python",
   "pygments_lexer": "ipython3",
   "version": "3.8.8"
  },
  "orig_nbformat": 4
 },
 "nbformat": 4,
 "nbformat_minor": 2
}
